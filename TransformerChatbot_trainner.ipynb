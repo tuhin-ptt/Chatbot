{
  "cells": [
    {
      "cell_type": "markdown",
      "metadata": {
        "id": "P4ZxMnMFXsXQ"
      },
      "source": [
        "# Chatbot"
      ]
    },
    {
      "cell_type": "markdown",
      "metadata": {
        "id": "XIv3NsT4Xif8"
      },
      "source": [
        "\n",
        "#### Google Drive connection"
      ]
    },
    {
      "cell_type": "code",
      "execution_count": 1,
      "metadata": {
        "colab": {
          "base_uri": "https://localhost:8080/"
        },
        "id": "dPdQwvnLG16Q",
        "outputId": "2e0c1645-e8dc-44b6-8a4d-1600afdc1b6c"
      },
      "outputs": [
        {
          "output_type": "stream",
          "name": "stdout",
          "text": [
            "Mounted at /content/drive\n",
            "/content/drive/.shortcut-targets-by-id/1hPqs1D4Hso-StY_HNP2-oxkXc32g02TF/Chatbot\n"
          ]
        }
      ],
      "source": [
        "from google.colab import drive\n",
        "drive.mount('/content/drive')\n",
        "%cd /content/drive/MyDrive/Colab Notebooks/Chatbot"
      ]
    },
    {
      "cell_type": "code",
      "execution_count": 2,
      "metadata": {
        "colab": {
          "base_uri": "https://localhost:8080/"
        },
        "id": "mb_5bl7G_n30",
        "outputId": "f532807b-633a-4e16-8329-6fb2b9e21bac"
      },
      "outputs": [
        {
          "output_type": "stream",
          "name": "stdout",
          "text": [
            "Tensorflow version 2.8.2\n"
          ]
        }
      ],
      "source": [
        "import sys\n",
        "import tensorflow as tf\n",
        "import random\n",
        "\n",
        "tf.random.set_seed(1234)\n",
        "AUTO = tf.data.experimental.AUTOTUNE\n",
        "\n",
        "import tensorflow_datasets as tfds\n",
        "import os\n",
        "import re\n",
        "import numpy as np\n",
        "from time import time\n",
        "import matplotlib.pyplot as plt\n",
        "import pickle\n",
        "from tensorflow.keras.preprocessing.text import Tokenizer\n",
        "from tensorflow.keras.preprocessing.sequence import pad_sequences\n",
        "from tensorflow.keras.utils import to_categorical \n",
        "\n",
        "print(\"Tensorflow version {}\".format(tf.__version__))"
      ]
    },
    {
      "cell_type": "markdown",
      "metadata": {
        "id": "-YXFrSnNE_2j"
      },
      "source": [
        "#### GPU / TPU initialization\n"
      ]
    },
    {
      "cell_type": "code",
      "execution_count": 3,
      "metadata": {
        "colab": {
          "base_uri": "https://localhost:8080/"
        },
        "id": "Rz2ZbpAREmRA",
        "outputId": "428063d6-8f0d-4010-8a52-d6b29e2597b5"
      },
      "outputs": [
        {
          "output_type": "stream",
          "name": "stdout",
          "text": [
            "REPLICAS: 1\n"
          ]
        }
      ],
      "source": [
        "try:\n",
        "    tpu = tf.distribute.cluster_resolver.TPUClusterResolver()\n",
        "    print('Running on TPU {}'.format(tpu.cluster_spec().as_dict()['worker']))\n",
        "except ValueError:\n",
        "    tpu = None\n",
        "\n",
        "if tpu:\n",
        "    tf.config.experimental_connect_to_cluster(tpu)\n",
        "    tf.tpu.experimental.initialize_tpu_system(tpu)\n",
        "    strategy = tf.distribute.experimental.TPUStrategy(tpu)\n",
        "else:\n",
        "    strategy = tf.distribute.get_strategy()\n",
        "\n",
        "print(\"REPLICAS: {}\".format(strategy.num_replicas_in_sync))"
      ]
    },
    {
      "cell_type": "markdown",
      "metadata": {
        "id": "_HrWKpTEawvq"
      },
      "source": [
        "#### Cleaning sentence"
      ]
    },
    {
      "cell_type": "code",
      "execution_count": 4,
      "metadata": {
        "id": "j4QIz8PSHKau"
      },
      "outputs": [],
      "source": [
        "def clean_sentence(sentence):\n",
        "  sentence = sentence.lower().strip()\n",
        "  # creating a space between a word and the punctuation following it\n",
        "  # eg: \"he is a boy.\" => \"he is a boy .\"\n",
        "  sentence = re.sub(r\"([?.!,])\", r\" \\1 \", sentence)\n",
        "  sentence = re.sub(r'[\" \"]+', \" \", sentence)\n",
        "  # removing contractions\n",
        "  sentence = re.sub(r\"i'm\", \"i am\", sentence)\n",
        "  sentence = re.sub(r\"he's\", \"he is\", sentence)\n",
        "  sentence = re.sub(r\"she's\", \"she is\", sentence)\n",
        "  sentence = re.sub(r\"it's\", \"it is\", sentence)\n",
        "  sentence = re.sub(r\"that's\", \"that is\", sentence)\n",
        "  sentence = re.sub(r\"there's\", \"there is\", sentence)\n",
        "  sentence = re.sub(r\"'til\", \"until\", sentence)\n",
        "  sentence = re.sub(r\"what's\", \"that is\", sentence)\n",
        "  sentence = re.sub(r\"where's\", \"where is\", sentence)\n",
        "  sentence = re.sub(r\"how's\", \"how is\", sentence)\n",
        "  sentence = re.sub(r\"\\'ll\", \" will\", sentence)\n",
        "  sentence = re.sub(r\"\\'ve\", \" have\", sentence)\n",
        "  sentence = re.sub(r\"\\'re\", \" are\", sentence)\n",
        "  sentence = re.sub(r\"\\'d\", \" would\", sentence)\n",
        "  sentence = re.sub(r\"\\'re\", \" are\", sentence)\n",
        "  sentence = re.sub(r\"won't\", \"will not\", sentence)\n",
        "  sentence = re.sub(r\"can't\", \"cannot\", sentence)\n",
        "  sentence = re.sub(r\"n't\", \" not\", sentence)\n",
        "  sentence = re.sub(r\"n'\", \"ng\", sentence)\n",
        "  sentence = re.sub(r\"'bout\", \"about\", sentence)\n",
        "  # replacing everything with space except (a-z, A-Z, \".\", \"?\", \"!\", \",\")\n",
        "  sentence = re.sub(r\"[-()\\\"#/@;:<>{}`+=~|.!?,]\", \"\", sentence)\n",
        "  sentence = re.sub(r\"[^a-zA-Z?.!,]+\", \" \", sentence)\n",
        "  sentence = sentence.strip()\n",
        "  return sentence"
      ]
    },
    {
      "cell_type": "markdown",
      "metadata": {
        "id": "y0AqALdZCbCW"
      },
      "source": [
        "##Prepare Dataset"
      ]
    },
    {
      "cell_type": "markdown",
      "metadata": {
        "id": "awb4RH3XCobf"
      },
      "source": [
        "We are using movies conversation data provided by [Cornell Movie-Dialogs Corpus](https://www.cs.cornell.edu/~cristian/Cornell_Movie-Dialogs_Corpus.html), which contains more than 220 thousands conversational exchanges between more than 10k pairs of movie characters, as our dataset.\n",
        "\n",
        "`movie_conversations.txt` contains list of the conversation IDs and `movie_lines.text` contains the text of assoicated with each conversation ID.\n"
      ]
    },
    {
      "cell_type": "code",
      "execution_count": 5,
      "metadata": {
        "colab": {
          "base_uri": "https://localhost:8080/"
        },
        "id": "S17Nfn6W_vhd",
        "outputId": "e3c9b00c-a58d-4e26-d813-592f74e9996a"
      },
      "outputs": [
        {
          "output_type": "stream",
          "name": "stdout",
          "text": [
            "Downloading data from http://www.cs.cornell.edu/~cristian/data/cornell_movie_dialogs_corpus.zip\n",
            "9920512/9916637 [==============================] - 2s 0us/step\n",
            "9928704/9916637 [==============================] - 2s 0us/step\n"
          ]
        }
      ],
      "source": [
        "path_to_zip = tf.keras.utils.get_file(\n",
        "    'cornell_movie_dialogs.zip',\n",
        "    origin=\n",
        "    'http://www.cs.cornell.edu/~cristian/data/cornell_movie_dialogs_corpus.zip',\n",
        "    extract=True)\n",
        "\n",
        "path_to_dataset = os.path.join(\n",
        "    os.path.dirname(path_to_zip), \"cornell movie-dialogs corpus\")\n",
        "\n",
        "path_to_movie_lines = os.path.join(path_to_dataset, 'movie_lines.txt')\n",
        "path_to_movie_conversations = os.path.join(path_to_dataset,\n",
        "                                           'movie_conversations.txt')"
      ]
    },
    {
      "cell_type": "markdown",
      "metadata": {
        "id": "iZMuzj0cVr3E"
      },
      "source": [
        "### Load and preprocess data\n",
        "Extracting conversation pairs into list of questions and answers preprocessing them.\n",
        "\n"
      ]
    },
    {
      "cell_type": "code",
      "execution_count": 6,
      "metadata": {
        "id": "mfOOK5f7Wm6c"
      },
      "outputs": [],
      "source": [
        "def load_conversations():\n",
        "  # dictionary of line id to text\n",
        "  id2line = {}\n",
        "  with open(path_to_movie_lines, errors='ignore') as file:\n",
        "    lines = file.readlines()\n",
        "  for line in lines:\n",
        "    parts = line.replace('\\n', '').split(' +++$+++ ')\n",
        "    id2line[parts[0]] = parts[4]\n",
        "\n",
        "  pairs = [] #Question, Answer\n",
        "  with open(path_to_movie_conversations, 'r') as file:\n",
        "    lines = file.readlines()\n",
        "  for line in lines:\n",
        "    parts = line.replace('\\n', '').split(' +++$+++ ')\n",
        "    # get conversation in a list of line ID\n",
        "    conversation = [line[1:-1] for line in parts[3][1:-1].split(', ')]  #here [1: -1] is used to remove [,],' from str. Ex: ['L22', 'L33']\n",
        "    for i in range(len(conversation) - 1):\n",
        "      qus = clean_sentence(id2line[conversation[i]])\n",
        "      ans = clean_sentence(id2line[conversation[i + 1]])\n",
        "      pairs.append([qus, ans])\n",
        "  return pairs\n",
        " \n",
        "pairs = load_conversations()"
      ]
    },
    {
      "cell_type": "markdown",
      "metadata": {
        "id": "CudW8-r2ciYU"
      },
      "source": [
        "#### Printing some samples"
      ]
    },
    {
      "cell_type": "code",
      "execution_count": 7,
      "metadata": {
        "colab": {
          "base_uri": "https://localhost:8080/"
        },
        "id": "GtQ_Ss-7HXfz",
        "outputId": "b8dedf1f-fe62-42a6-d387-691a115b8fc6"
      },
      "outputs": [
        {
          "output_type": "stream",
          "name": "stdout",
          "text": [
            "Q: can we make this quick roxanne korrine and andrew barrett are having an incredibly horrendous public break up on the quad again\n",
            "A: well i thought we would start with pronunciation if that is okay with you\n",
            "\n",
            "Q: well i thought we would start with pronunciation if that is okay with you\n",
            "A: not the hacking and gagging and spitting part please\n",
            "\n",
            "Total pairs: 221616\n"
          ]
        }
      ],
      "source": [
        "print('Q:', pairs[0][0])\n",
        "print('A:', pairs[0][1])\n",
        "print()  \n",
        "print('Q:', pairs[1][0])\n",
        "print('A:', pairs[1][1])\n",
        "print()\n",
        "print('Total pairs:', len(pairs))"
      ]
    },
    {
      "cell_type": "markdown",
      "metadata": {
        "id": "W1avXfqvc1Gm"
      },
      "source": [
        "#### Defining maximum sentence length"
      ]
    },
    {
      "cell_type": "code",
      "execution_count": 8,
      "metadata": {
        "colab": {
          "base_uri": "https://localhost:8080/"
        },
        "id": "ajnjziKqHa2o",
        "outputId": "068171cd-a39b-46b7-94af-a08dc3fd3950"
      },
      "outputs": [
        {
          "output_type": "stream",
          "name": "stdout",
          "text": [
            "maximum length of 80 conversation is 16\n"
          ]
        }
      ],
      "source": [
        "# finding the maximum length of questions and answers\n",
        "# because there are senteces with unusually long lengths, we caculate the max length that 80% of data can be placed in\n",
        "\n",
        "percentage = 80\n",
        "ques = []\n",
        "ans = []\n",
        "for i in pairs:\n",
        "    ques.append(i[0])\n",
        "    ans.append(i[1])\n",
        "    \n",
        "length_questions = list(len(q.split()) for q in ques)\n",
        "length_answers = list(len(a.split()) for a in ans)\n",
        "max_len_q, max_len_a = int(np.percentile(length_questions, percentage)),int(np.percentile(length_answers, percentage))\n",
        "max_len = max(max_len_q, max_len_a)\n",
        "\n",
        "print('maximum length of %d conversation is %d' %(percentage, max_len))"
      ]
    },
    {
      "cell_type": "markdown",
      "metadata": {
        "id": "MR9LgCoperlh"
      },
      "source": [
        "#### Filtering conversations using max_len threshold"
      ]
    },
    {
      "cell_type": "code",
      "execution_count": 9,
      "metadata": {
        "colab": {
          "base_uri": "https://localhost:8080/"
        },
        "id": "QGRUjA67HhBL",
        "outputId": "e4299844-4eec-4c35-be3e-c0f15fff6fd8"
      },
      "outputs": [
        {
          "output_type": "stream",
          "name": "stdout",
          "text": [
            "Filtered questions lengths: 145073\n"
          ]
        }
      ],
      "source": [
        "# Remove questions and answers that are longer than maxlen.\n",
        "ques_filtered = []\n",
        "ans_filtered = []\n",
        "for q, a in zip(ques, ans):\n",
        "    if (len(q.split()) <= max_len and len(a.split()) <= max_len):    \n",
        "        ques_filtered.append(q)\n",
        "        ans_filtered.append(a)\n",
        "\n",
        "print('Filtered questions lengths:', len(ques_filtered))"
      ]
    },
    {
      "cell_type": "code",
      "execution_count": 10,
      "metadata": {
        "colab": {
          "base_uri": "https://localhost:8080/"
        },
        "id": "mX-eWb1Arj3I",
        "outputId": "54a92b16-282b-405e-e680-84edb52c88c5"
      },
      "outputs": [
        {
          "output_type": "stream",
          "name": "stdout",
          "text": [
            "well i thought we would start with pronunciation if that is okay with you\n",
            "not the hacking and gagging and spitting part please\n"
          ]
        }
      ],
      "source": [
        "print(ques_filtered[0])\n",
        "print(ans_filtered[0])"
      ]
    },
    {
      "cell_type": "markdown",
      "metadata": {
        "id": "DIinimhfxJnB"
      },
      "source": [
        "#### Fitting keras tokenizer on conversational dataset"
      ]
    },
    {
      "cell_type": "code",
      "execution_count": 11,
      "metadata": {
        "colab": {
          "base_uri": "https://localhost:8080/"
        },
        "id": "H0t9Y_p9lQSJ",
        "outputId": "032c0a62-a7f3-4a94-f60a-26584797b841"
      },
      "outputs": [
        {
          "output_type": "stream",
          "name": "stdout",
          "text": [
            "Vocabulary size: 35894\n"
          ]
        }
      ],
      "source": [
        "tokenizer = Tokenizer()\n",
        "tokenizer.fit_on_texts(ques_filtered+ans_filtered)\n",
        "\n",
        "idx2word = {} # index to word dic\n",
        "word2idx = tokenizer.word_index # word to index dict\n",
        "\n",
        "for w in tokenizer.word_index:\n",
        "    idx2word[tokenizer.word_index[w]] = w\n",
        "\n",
        "start_token, end_token = [len(tokenizer.word_index)], [len(tokenizer.word_index) + 1]\n",
        "\n",
        "# Vocabulary size plus start and end token. additional one for embedding layer\n",
        "vocab_size = len(tokenizer.word_index) + 3\n",
        "print('Vocabulary size:', vocab_size)"
      ]
    },
    {
      "cell_type": "markdown",
      "metadata": {
        "id": "8pIf6DiRxRgJ"
      },
      "source": [
        "#### Storing tokenizer object"
      ]
    },
    {
      "cell_type": "code",
      "execution_count": 12,
      "metadata": {
        "id": "Yi72IZQcflG-"
      },
      "outputs": [],
      "source": [
        "#import pickle\n",
        "#with open('tokenizer.pickle', 'wb') as handle:\n",
        "#    pickle.dump(tokenizer, handle, protocol=pickle.HIGHEST_PROTOCOL)\n",
        "    \n",
        "with open('tokenizer.pickle', 'rb') as handle:\n",
        "    tokenizer = pickle.load(handle)"
      ]
    },
    {
      "cell_type": "markdown",
      "metadata": {
        "id": "npvjaeTGxhYQ"
      },
      "source": [
        "#### Tokenizing and subsequently padding conversations"
      ]
    },
    {
      "cell_type": "code",
      "execution_count": 13,
      "metadata": {
        "id": "Zt0Qxoo4meKT"
      },
      "outputs": [],
      "source": [
        "# Tokenize, filter and pad sentences\n",
        "def tokenize_texts(inputs, outputs):\n",
        "  tokenized_inputs, tokenized_outputs = [], []\n",
        "  \n",
        "  for (sentence1, sentence2) in zip(inputs, outputs):\n",
        "    # tokenize sentence\n",
        "    sentence1 = start_token + tokenizer.texts_to_sequences([sentence1])[0] + end_token\n",
        "    sentence2 = start_token + tokenizer.texts_to_sequences([sentence2])[0] + end_token\n",
        "    tokenized_inputs.append(sentence1)\n",
        "    tokenized_outputs.append(sentence2)\n",
        "  \n",
        "  # pad tokenized sentences\n",
        "  tokenized_inputs = tf.keras.preprocessing.sequence.pad_sequences(tokenized_inputs, maxlen=max_len, padding='post')\n",
        "  tokenized_outputs = tf.keras.preprocessing.sequence.pad_sequences(tokenized_outputs, maxlen=max_len, padding='post')\n",
        "  \n",
        "  return tokenized_inputs, tokenized_outputs\n",
        "\n",
        "questions, answers = tokenize_texts(ques_filtered, ans_filtered)"
      ]
    },
    {
      "cell_type": "markdown",
      "metadata": {
        "id": "ZFv_GlNpr3hD"
      },
      "source": [
        "#### Defining hyperparameters for transformer model"
      ]
    },
    {
      "cell_type": "code",
      "execution_count": 14,
      "metadata": {
        "id": "alnYEatYcHp7"
      },
      "outputs": [],
      "source": [
        "# For tf.data.Dataset\n",
        "BATCH_SIZE = 64 * strategy.num_replicas_in_sync\n",
        "BUFFER_SIZE = 20000\n",
        "\n",
        "# For Transformer\n",
        "NUM_LAYERS = 2\n",
        "D_MODEL = 100 #D_MODEL should match with embedding dimension\n",
        "NUM_HEADS = 5 #D_MODEL/NUM_HEADS must be integer\n",
        "UNITS = 512\n",
        "DROPOUT = 0.1"
      ]
    },
    {
      "cell_type": "markdown",
      "metadata": {
        "id": "ypJK24GzyAQm"
      },
      "source": [
        "## Embedding Layer\n",
        "#### This layer includes pretrained GloVe embedding matrix"
      ]
    },
    {
      "cell_type": "code",
      "execution_count": 15,
      "metadata": {
        "id": "Rc4mQmxCH4ZA"
      },
      "outputs": [],
      "source": [
        " # Making the embedding mtrix\n",
        "def make_embedding_layer(embedding_dim=100, glove=True):\n",
        "    if glove == False:\n",
        "        print('Just a zero matrix loaded')\n",
        "        embedding_matrix = np.zeros((vocab_size, embedding_dim)) # just a zero matrix \n",
        "    else:\n",
        "        print('Loading glove...')\n",
        "        glove_dir = 'GloVe/'\n",
        "        embeddings_index = {} \n",
        "        f = open(os.path.join(glove_dir, 'glove.6B.'+str(embedding_dim)+'d.txt'), encoding=\"utf-8\")\n",
        "        for line in f:\n",
        "            values = line.split()\n",
        "            word = values[0]\n",
        "            coefs = np.asarray(values[1:], dtype='float32')\n",
        "            embeddings_index[word] = coefs\n",
        "        f.close()\n",
        "        print(\"GloVe \",embedding_dim, ' loded!')\n",
        "        embedding_matrix = np.zeros((vocab_size, embedding_dim)) # to import as weights for Keras Embedding layer\n",
        "        for word, i in word2idx.items():\n",
        "            embedding_vector = embeddings_index.get(word)\n",
        "            if embedding_vector is not None:\n",
        "                # Words not found in the embedding index will be all zeros\n",
        "                embedding_matrix[i] = embedding_vector\n",
        "    \n",
        "    # we have a limited vocab so we do not train the embedding layer we use 0 as padding so => mask_zero=True\n",
        "    embedding_layer = tf.keras.layers.Embedding(vocab_size, embedding_dim, mask_zero=True, trainable=False) \n",
        "    embedding_layer.build((None,))\n",
        "    embedding_layer.set_weights([embedding_matrix])\n",
        "    \n",
        "    return embedding_layer"
      ]
    },
    {
      "cell_type": "markdown",
      "metadata": {
        "id": "S50jT4upWh5c"
      },
      "source": [
        "#### Creating Dataset for Transformer\n",
        "\n",
        "We are going to use the [tf.data.Dataset API](https://www.tensorflow.org/api_docs/python/tf/data) to contruct our input pipline in order to utilize features like caching and prefetching to speed up the training process.\n"
      ]
    },
    {
      "cell_type": "code",
      "execution_count": 16,
      "metadata": {
        "id": "pttC3XxgAXWQ"
      },
      "outputs": [],
      "source": [
        "# decoder inputs use the previous target as input\n",
        "# remove start_token from targets\n",
        "dataset = tf.data.Dataset.from_tensor_slices((\n",
        "    {\n",
        "        'inputs': questions,\n",
        "        'dec_inputs': answers[:, :-1]\n",
        "    },\n",
        "    {\n",
        "        'outputs': answers[:, 1:]\n",
        "    },\n",
        "))\n",
        "\n",
        "dataset = dataset.cache()\n",
        "dataset = dataset.shuffle(BUFFER_SIZE)\n",
        "dataset = dataset.batch(BATCH_SIZE)\n",
        "dataset = dataset.prefetch(tf.data.experimental.AUTOTUNE)"
      ]
    },
    {
      "cell_type": "markdown",
      "metadata": {
        "id": "s9eeMPjGXmI1"
      },
      "source": [
        "## Attention\n",
        "\n"
      ]
    },
    {
      "cell_type": "markdown",
      "metadata": {
        "id": "uctkwvPZVSzu"
      },
      "source": [
        "### Scaled dot product Attention\n",
        "\n",
        "The scaled dot-product attention function used by the transformer takes three inputs: Q (query), K (key), V (value). The equation used to calculate the attention weights is:\n",
        "\n",
        "$${Attention(Q, K, V) = softmax_k(\\frac{QK^T}{\\sqrt{d_k}}) V} $$\n",
        "\n"
      ]
    },
    {
      "cell_type": "code",
      "execution_count": 17,
      "metadata": {
        "id": "ENfqAFna_50H"
      },
      "outputs": [],
      "source": [
        "def scaled_dot_product_attention(query, key, value, mask):\n",
        "  \"\"\"Calculate the attention weights. \"\"\"\n",
        "  matmul_qk = tf.matmul(query, key, transpose_b=True)\n",
        "\n",
        "  # scale matmul_qk\n",
        "  depth = tf.cast(tf.shape(key)[-1], tf.float32)\n",
        "  logits = matmul_qk / tf.math.sqrt(depth)\n",
        "\n",
        "  # add the mask to zero out padding tokens\n",
        "  if mask is not None:\n",
        "    logits += (mask * -1e9)\n",
        "\n",
        "  # softmax is normalized on the last axis (seq_len_k)\n",
        "  attention_weights = tf.nn.softmax(logits, axis=-1)\n",
        "  output = tf.matmul(attention_weights, value)\n",
        "\n",
        "  return output"
      ]
    },
    {
      "cell_type": "markdown",
      "metadata": {
        "id": "XwmOB9HvVbyh"
      },
      "source": [
        "### Multi-head attention\n",
        "\n",
        "Multi-head attention consists of four parts:\n",
        "* Linear layers and split into heads.\n",
        "* Scaled dot-product attention.\n",
        "* Concatenation of heads.\n",
        "* Final linear layer.\n"
      ]
    },
    {
      "cell_type": "code",
      "execution_count": 18,
      "metadata": {
        "id": "L9eYssGIAG4h"
      },
      "outputs": [],
      "source": [
        "class MultiHeadedAttention(tf.keras.layers.Layer):\n",
        "\n",
        "  def __init__(self, d_model, num_heads, name=\"multi_head_attention\"):\n",
        "    super(MultiHeadedAttention, self).__init__(name=name)\n",
        "    self.num_heads = num_heads\n",
        "    self.d_model = d_model\n",
        "\n",
        "    assert d_model % self.num_heads == 0\n",
        "\n",
        "    self.depth = d_model // self.num_heads\n",
        "    self.query_dense = tf.keras.layers.Dense(units=d_model)\n",
        "    self.key_dense = tf.keras.layers.Dense(units=d_model)\n",
        "    self.value_dense = tf.keras.layers.Dense(units=d_model)\n",
        "    self.dense = tf.keras.layers.Dense(units=d_model)\n",
        "  \n",
        "  def get_config(self):\n",
        "        config = super(MultiHeadedAttention,self).get_config()\n",
        "        config.update({\n",
        "            'num_heads':self.num_heads,\n",
        "            'd_model':self.d_model,\n",
        "        })\n",
        "        return config\n",
        "\n",
        "  def split_heads(self, inputs, batch_size):\n",
        "    inputs = tf.keras.layers.Lambda(lambda inputs:tf.reshape(\n",
        "        inputs, shape=(batch_size, -1, self.num_heads, self.depth)))(inputs)\n",
        "    return tf.keras.layers.Lambda(lambda inputs: tf.transpose(inputs, perm=[0, 2, 1, 3]))(inputs)\n",
        "\n",
        "  def call(self, inputs):\n",
        "    query, key, value, mask = inputs['query'], inputs['key'], inputs[\n",
        "        'value'], inputs['mask']\n",
        "    batch_size = tf.shape(query)[0]\n",
        "\n",
        "    # linear layers\n",
        "    query = self.query_dense(query)\n",
        "    key = self.key_dense(key)\n",
        "    value = self.value_dense(value)\n",
        "\n",
        "    # split heads\n",
        "    query = self.split_heads(query, batch_size)\n",
        "    key = self.split_heads(key, batch_size)\n",
        "    value = self.split_heads(value, batch_size)\n",
        "\n",
        "    # scaled dot-product attention\n",
        "    scaled_attention = scaled_dot_product_attention(query, key, value, mask)\n",
        "    scaled_attention = tf.keras.layers.Lambda(lambda scaled_attention: tf.transpose(\n",
        "        scaled_attention, perm=[0, 2, 1, 3]))(scaled_attention)\n",
        "\n",
        "    # concatenation of heads\n",
        "    concat_attention = tf.keras.layers.Lambda(lambda scaled_attention: tf.reshape(scaled_attention,\n",
        "                                  (batch_size, -1, self.d_model)))(scaled_attention)\n",
        "\n",
        "    # final linear layer\n",
        "    outputs = self.dense(concat_attention)\n",
        "\n",
        "    return outputs"
      ]
    },
    {
      "cell_type": "markdown",
      "metadata": {
        "id": "eDUX7Oa8Xudj"
      },
      "source": [
        "## Transformer"
      ]
    },
    {
      "cell_type": "markdown",
      "metadata": {
        "id": "x5QlgXsxYirg"
      },
      "source": [
        "### Masking\n",
        "\n"
      ]
    },
    {
      "cell_type": "markdown",
      "metadata": {
        "id": "0CX5H8A-Wybj"
      },
      "source": [
        "`create_padding_mask` and `create_look_ahead` are helper functions to create masks to mask out padded tokens, we are going to use these helper functions as `tf.keras.layers.Lambda` layers.\n",
        "\n",
        "Mask all the pad tokens (value `0`) in the batch to ensure the model does not treat padding as input."
      ]
    },
    {
      "cell_type": "code",
      "execution_count": 19,
      "metadata": {
        "id": "imCQ0jrvWhC7"
      },
      "outputs": [],
      "source": [
        "def create_padding_mask(x):\n",
        "  mask = tf.cast(tf.math.equal(x, 0), tf.float32)\n",
        "  # (batch_size, 1, 1, sequence length)\n",
        "  return mask[:, tf.newaxis, tf.newaxis, :]"
      ]
    },
    {
      "cell_type": "markdown",
      "metadata": {
        "id": "qJAicy1zW1QT"
      },
      "source": [
        "Look-ahead mask to mask the future tokens in a sequence.\n",
        "We also mask out pad tokens."
      ]
    },
    {
      "cell_type": "code",
      "execution_count": 20,
      "metadata": {
        "id": "HSVdD2zKWaXx"
      },
      "outputs": [],
      "source": [
        "def create_look_ahead_mask(x):\n",
        "  seq_len = tf.shape(x)[1]\n",
        "  look_ahead_mask = 1 - tf.linalg.band_part(tf.ones((seq_len, seq_len)), -1, 0)\n",
        "  padding_mask = create_padding_mask(x)\n",
        "  return tf.maximum(look_ahead_mask, padding_mask)"
      ]
    },
    {
      "cell_type": "markdown",
      "metadata": {
        "id": "TpR7kz4jFkPJ"
      },
      "source": [
        "### Positional encoding\n",
        "\n",
        "Positional encoding is added to give the model some information about the relative position of the words in the sentence. \n",
        "\n",
        "The formula for calculating the positional encoding is as follows:\n",
        "\n",
        "$${PE_{(pos, 2i)} = sin(pos / 10000^{2i / d_{model}})} $$\n",
        "$${PE_{(pos, 2i+1)} = cos(pos / 10000^{2i / d_{model}})} $$"
      ]
    },
    {
      "cell_type": "code",
      "execution_count": 21,
      "metadata": {
        "id": "-9Oibz2es-qW"
      },
      "outputs": [],
      "source": [
        "class PositionalEncoding(tf.keras.layers.Layer):\n",
        "\n",
        "  def __init__(self, position, d_model):\n",
        "    super(PositionalEncoding, self).__init__()\n",
        "    self.pos_encoding = self.positional_encoding(position, d_model)\n",
        "    self.position = position\n",
        "    self.d_model = d_model\n",
        "  \n",
        "  def get_config(self):\n",
        "        config = super(PositionalEncoding, self).get_config()\n",
        "        config.update({\n",
        "            'position': self.position,\n",
        "            'd_model': self.d_model,\n",
        "            \n",
        "        })\n",
        "        return config\n",
        "\n",
        "  def get_angles(self, position, i, d_model):\n",
        "    angles = 1 / tf.pow(10000, (2 * (i // 2)) / tf.cast(d_model, tf.float32))\n",
        "    return position * angles\n",
        "\n",
        "  def positional_encoding(self, position, d_model):\n",
        "    angle_rads = self.get_angles(\n",
        "        position=tf.range(position, dtype=tf.float32)[:, tf.newaxis],\n",
        "        i=tf.range(d_model, dtype=tf.float32)[tf.newaxis, :],\n",
        "        d_model=d_model)\n",
        "    # apply sin to even index in the array\n",
        "    sines = tf.math.sin(angle_rads[:, 0::2])\n",
        "    # apply cos to odd index in the array\n",
        "    cosines = tf.math.cos(angle_rads[:, 1::2])\n",
        "\n",
        "    pos_encoding = tf.concat([sines, cosines], axis=-1)\n",
        "    pos_encoding = pos_encoding[tf.newaxis, ...]\n",
        "    return tf.cast(pos_encoding, tf.float32)\n",
        "\n",
        "  def call(self, inputs):\n",
        "    return inputs + self.pos_encoding[:, :tf.shape(inputs)[1], :]"
      ]
    },
    {
      "cell_type": "code",
      "execution_count": 25,
      "metadata": {
        "colab": {
          "base_uri": "https://localhost:8080/",
          "height": 338
        },
        "id": "UC_fQehi3_Yh",
        "outputId": "701c8a39-5184-4948-d664-5765bc823506"
      },
      "outputs": [
        {
          "output_type": "display_data",
          "data": {
            "text/plain": [
              "<Figure size 1296x360 with 2 Axes>"
            ],
            "image/png": "[encoded data removed]"
          },
          "metadata": {
            "needs_background": "light"
          }
        }
      ],
      "source": [
        "plt.figure(figsize=(18,5))\n",
        "\n",
        "sample_pos_encoding = PositionalEncoding(50, 512)\n",
        "\n",
        "plt.pcolormesh(sample_pos_encoding.pos_encoding.numpy()[0], cmap='RdBu')\n",
        "plt.xlabel('Depth')\n",
        "plt.xlim((0, 512))\n",
        "plt.ylabel('Position')\n",
        "plt.colorbar()\n",
        "plt.show()"
      ]
    },
    {
      "cell_type": "markdown",
      "metadata": {
        "id": "HVazCemoW2Ye"
      },
      "source": [
        "### Encoder Layer\n",
        "\n",
        "Each encoder layer consists of sublayers:\n",
        "\n",
        "1. Multi-head attention (with padding mask) \n",
        "2. 2 dense layers followed by dropout"
      ]
    },
    {
      "cell_type": "code",
      "execution_count": 26,
      "metadata": {
        "id": "5guJOLJmfcuX"
      },
      "outputs": [],
      "source": [
        "def encoder_layer(units, d_model, num_heads, dropout, name=\"encoder_layer\"):\n",
        "  inputs = tf.keras.Input(shape=(None, d_model), name=\"inputs\")\n",
        "  padding_mask = tf.keras.Input(shape=(1, 1, None), name=\"padding_mask\")\n",
        "\n",
        "  attention = MultiHeadedAttention(\n",
        "      d_model, num_heads, name=\"attention\")({\n",
        "          'query': inputs,\n",
        "          'key': inputs,\n",
        "          'value': inputs,\n",
        "          'mask': padding_mask\n",
        "      })\n",
        "  attention = tf.keras.layers.Dropout(rate=dropout)(attention)\n",
        "  add_attention = tf.keras.layers.add([inputs,attention])\n",
        "  attention = tf.keras.layers.LayerNormalization(epsilon=1e-6)(add_attention)\n",
        "\n",
        "  outputs = tf.keras.layers.Dense(units=units, activation='relu')(attention)\n",
        "  outputs = tf.keras.layers.Dense(units=d_model)(outputs)\n",
        "  outputs = tf.keras.layers.Dropout(rate=dropout)(outputs)\n",
        "  add_attention = tf.keras.layers.add([attention,outputs])\n",
        "  outputs = tf.keras.layers.LayerNormalization(epsilon=1e-6)(add_attention)\n",
        "\n",
        "  return tf.keras.Model(\n",
        "      inputs=[inputs, padding_mask], outputs=outputs, name=name)"
      ]
    },
    {
      "cell_type": "markdown",
      "metadata": {
        "id": "9r8lWGClfi_1"
      },
      "source": [
        "### Encoder\n",
        "\n",
        "The Encoder consists of:\n",
        "1.   Input Embedding\n",
        "2.   Positional Encoding\n",
        "3.   `num_layers` encoder layers\n"
      ]
    },
    {
      "cell_type": "code",
      "execution_count": 27,
      "metadata": {
        "id": "LRfugon5Wy-Y"
      },
      "outputs": [],
      "source": [
        "def encoder(vocab_size,\n",
        "            num_layers,\n",
        "            units,\n",
        "            d_model,\n",
        "            num_heads,\n",
        "            dropout,\n",
        "            name=\"encoder\"):\n",
        "  inputs = tf.keras.Input(shape=(None,), name=\"inputs\")\n",
        "  padding_mask = tf.keras.Input(shape=(1, 1, None), name=\"padding_mask\")\n",
        "\n",
        "  embeddings = make_embedding_layer(embedding_dim=D_MODEL, glove=True)(inputs)\n",
        "  embeddings *= tf.keras.layers.Lambda(lambda d_model: tf.math.sqrt(tf.cast(d_model, tf.float32)))(d_model)\n",
        "  embeddings = PositionalEncoding(vocab_size,d_model)(embeddings)\n",
        "\n",
        "  outputs = tf.keras.layers.Dropout(rate=dropout)(embeddings)\n",
        "\n",
        "  for i in range(num_layers):\n",
        "    outputs = encoder_layer(\n",
        "        units=units,\n",
        "        d_model=d_model,\n",
        "        num_heads=num_heads,\n",
        "        dropout=dropout,\n",
        "        name=\"encoder_layer_{}\".format(i),\n",
        "    )([outputs, padding_mask])\n",
        "\n",
        "  return tf.keras.Model(\n",
        "      inputs=[inputs, padding_mask], outputs=outputs, name=name)"
      ]
    },
    {
      "cell_type": "markdown",
      "metadata": {
        "id": "af66azvgW9P-"
      },
      "source": [
        "### Decoder Layer\n",
        "\n",
        "Each decoder layer consists of sublayers:\n",
        "\n",
        "1.   Masked multi-head attention (with look ahead mask and padding mask)\n",
        "2.   Multi-head attention (with padding mask). `value` and `key` receive the *encoder output* as inputs. `query` receives the *output from the masked multi-head attention sublayer.*\n",
        "3.   2 dense layers followed by dropout\n"
      ]
    },
    {
      "cell_type": "code",
      "execution_count": 28,
      "metadata": {
        "id": "6mLvvNMWgDnf"
      },
      "outputs": [],
      "source": [
        "def decoder_layer(units, d_model, num_heads, dropout, name=\"decoder_layer\"):\n",
        "  inputs = tf.keras.Input(shape=(None, d_model), name=\"inputs\")\n",
        "  enc_outputs = tf.keras.Input(shape=(None, d_model), name=\"encoder_outputs\")\n",
        "  look_ahead_mask = tf.keras.Input(\n",
        "      shape=(1, None, None), name=\"look_ahead_mask\")\n",
        "  padding_mask = tf.keras.Input(shape=(1, 1, None), name='padding_mask')\n",
        "\n",
        "  attention1 = MultiHeadedAttention(\n",
        "      d_model, num_heads, name=\"attention_1\")(inputs={\n",
        "          'query': inputs,\n",
        "          'key': inputs,\n",
        "          'value': inputs,\n",
        "          'mask': look_ahead_mask\n",
        "      })\n",
        "  add_attention = tf.keras.layers.add([attention1,inputs])    \n",
        "  attention1 = tf.keras.layers.LayerNormalization(epsilon=1e-6)(add_attention)\n",
        "\n",
        "  attention2 = MultiHeadedAttention(\n",
        "      d_model, num_heads, name=\"attention_2\")(inputs={\n",
        "          'query': attention1,\n",
        "          'key': enc_outputs,\n",
        "          'value': enc_outputs,\n",
        "          'mask': padding_mask\n",
        "      })\n",
        "  attention2 = tf.keras.layers.Dropout(rate=dropout)(attention2)\n",
        "  add_attention = tf.keras.layers.add([attention2,attention1])\n",
        "  attention2 = tf.keras.layers.LayerNormalization(epsilon=1e-6)(add_attention)\n",
        "\n",
        "  outputs = tf.keras.layers.Dense(units=units, activation='relu')(attention2)\n",
        "  outputs = tf.keras.layers.Dense(units=d_model)(outputs)\n",
        "  outputs = tf.keras.layers.Dropout(rate=dropout)(outputs)\n",
        "  add_attention = tf.keras.layers.add([outputs,attention2])\n",
        "  outputs = tf.keras.layers.LayerNormalization(epsilon=1e-6)(add_attention)\n",
        "\n",
        "  return tf.keras.Model(\n",
        "      inputs=[inputs, enc_outputs, look_ahead_mask, padding_mask],\n",
        "      outputs=outputs,\n",
        "      name=name)"
      ]
    },
    {
      "cell_type": "markdown",
      "metadata": {
        "id": "NPSKnjS-gE_q"
      },
      "source": [
        "### Decoder\n",
        "\n",
        "The Decoder consists of:\n",
        "1.   Output Embedding\n",
        "2.   Positional Encoding\n",
        "3.   N decoder layers"
      ]
    },
    {
      "cell_type": "code",
      "execution_count": 29,
      "metadata": {
        "id": "dYRx7YzCW4bu"
      },
      "outputs": [],
      "source": [
        "def decoder(vocab_size,\n",
        "            num_layers,\n",
        "            units,\n",
        "            d_model,\n",
        "            num_heads,\n",
        "            dropout,\n",
        "            name='decoder'):\n",
        "  inputs = tf.keras.Input(shape=(None,), name='inputs')\n",
        "  enc_outputs = tf.keras.Input(shape=(None, d_model), name='encoder_outputs')\n",
        "  look_ahead_mask = tf.keras.Input(\n",
        "      shape=(1, None, None), name='look_ahead_mask')\n",
        "  padding_mask = tf.keras.Input(shape=(1, 1, None), name='padding_mask')\n",
        "  \n",
        "  embeddings = make_embedding_layer(embedding_dim=D_MODEL, glove=True)(inputs)\n",
        "  embeddings *= tf.keras.layers.Lambda(lambda d_model: tf.math.sqrt(tf.cast(d_model, tf.float32)))(d_model)\n",
        "  embeddings = PositionalEncoding(vocab_size, d_model)(embeddings)\n",
        "\n",
        "  outputs = tf.keras.layers.Dropout(rate=dropout)(embeddings)\n",
        "\n",
        "  for i in range(num_layers):\n",
        "    outputs = decoder_layer(\n",
        "        units=units,\n",
        "        d_model=d_model,\n",
        "        num_heads=num_heads,\n",
        "        dropout=dropout,\n",
        "        name='decoder_layer_{}'.format(i),\n",
        "    )(inputs=[outputs, enc_outputs, look_ahead_mask, padding_mask])\n",
        "\n",
        "  return tf.keras.Model(\n",
        "      inputs=[inputs, enc_outputs, look_ahead_mask, padding_mask],\n",
        "      outputs=outputs,\n",
        "      name=name)"
      ]
    },
    {
      "cell_type": "markdown",
      "metadata": {
        "id": "yl0o97RJXAqw"
      },
      "source": [
        "### Transformer\n",
        "\n",
        "Transformer consists of the encoder, decoder and a final linear layer. The output of the decoder is the input to the linear layer and its output is returned."
      ]
    },
    {
      "cell_type": "code",
      "execution_count": 30,
      "metadata": {
        "id": "TW-v7Fz6XAfC"
      },
      "outputs": [],
      "source": [
        "def transformer(vocab_size,\n",
        "                num_layers,\n",
        "                units,\n",
        "                d_model,\n",
        "                num_heads,\n",
        "                dropout,\n",
        "                name=\"transformer\"):\n",
        "  inputs = tf.keras.Input(shape=(None,), name=\"inputs\")\n",
        "  dec_inputs = tf.keras.Input(shape=(None,), name=\"dec_inputs\")\n",
        "\n",
        "  enc_padding_mask = tf.keras.layers.Lambda(\n",
        "      create_padding_mask, output_shape=(1, 1, None),\n",
        "      name='enc_padding_mask')(inputs)\n",
        "  # mask the future tokens for decoder inputs at the 1st attention block\n",
        "  look_ahead_mask = tf.keras.layers.Lambda(\n",
        "      create_look_ahead_mask,\n",
        "      output_shape=(1, None, None),\n",
        "      name='look_ahead_mask')(dec_inputs)\n",
        "  # mask the encoder outputs for the 2nd attention block\n",
        "  dec_padding_mask = tf.keras.layers.Lambda(\n",
        "      create_padding_mask, output_shape=(1, 1, None),\n",
        "      name='dec_padding_mask')(inputs)\n",
        "\n",
        "  enc_outputs = encoder(\n",
        "      vocab_size=vocab_size,\n",
        "      num_layers=num_layers,\n",
        "      units=units,\n",
        "      d_model=d_model,\n",
        "      num_heads=num_heads,\n",
        "      dropout=dropout,\n",
        "      )(inputs=[inputs, enc_padding_mask])\n",
        "\n",
        "  dec_outputs = decoder(\n",
        "      vocab_size=vocab_size,\n",
        "      num_layers=num_layers,\n",
        "      units=units,\n",
        "      d_model=d_model,\n",
        "      num_heads=num_heads,\n",
        "      dropout=dropout,\n",
        "      )(inputs=[dec_inputs, enc_outputs, look_ahead_mask, dec_padding_mask])\n",
        "\n",
        "  outputs = tf.keras.layers.Dense(units=vocab_size, name=\"outputs\")(dec_outputs)\n",
        "\n",
        "  return tf.keras.Model(inputs=[inputs, dec_inputs], outputs=outputs, name=name)"
      ]
    },
    {
      "cell_type": "markdown",
      "metadata": {
        "id": "9HD7GK-nh_KT"
      },
      "source": [
        "## Train model"
      ]
    },
    {
      "cell_type": "markdown",
      "metadata": {
        "id": "0_GCb0LaV1tI"
      },
      "source": [
        "### Loss function\n"
      ]
    },
    {
      "cell_type": "code",
      "execution_count": 31,
      "metadata": {
        "id": "UInVM9iGAMv1"
      },
      "outputs": [],
      "source": [
        "def loss_function(y_true, y_pred):\n",
        "  y_true = tf.reshape(y_true, shape=(-1, max_len - 1))\n",
        "  \n",
        "  loss = tf.keras.losses.SparseCategoricalCrossentropy(\n",
        "      from_logits=True, reduction='none')(y_true, y_pred)\n",
        "\n",
        "  mask = tf.cast(tf.not_equal(y_true, 0), tf.float32)\n",
        "  loss = tf.multiply(loss, mask)\n",
        "\n",
        "  return tf.reduce_mean(loss)"
      ]
    },
    {
      "cell_type": "markdown",
      "metadata": {
        "id": "XvFM9ajSVybP"
      },
      "source": [
        "### Custom learning rate\n",
        "\n",
        "Use the Adam optimizer with a custom learning rate scheduler according to the formula in the [paper](https://arxiv.org/abs/1706.03762).\n",
        "\n",
        "$$\\Large{lrate = d_{model}^{-0.5} * min(step{\\_}num^{-0.5}, step{\\_}num * warmup{\\_}steps^{-1.5})}$$"
      ]
    },
    {
      "cell_type": "code",
      "execution_count": 32,
      "metadata": {
        "id": "WW3SeLDhAMJd"
      },
      "outputs": [],
      "source": [
        "class CustomSchedule(tf.keras.optimizers.schedules.LearningRateSchedule):\n",
        "\n",
        "  def __init__(self, d_model, warmup_steps=4000):\n",
        "    super(CustomSchedule, self).__init__()\n",
        "    \n",
        "    self.d_model = tf.constant(d_model,dtype=tf.float32)\n",
        "    self.warmup_steps = warmup_steps\n",
        "    \n",
        "  def get_config(self):\n",
        "        return {\"d_model\": self.d_model,\"warmup_steps\":self.warmup_steps}\n",
        "    \n",
        "  def __call__(self, step):\n",
        "    arg1 = tf.math.rsqrt(step)\n",
        "    arg2 = step * (self.warmup_steps**-1.5)\n",
        "\n",
        "    return tf.math.multiply(tf.math.rsqrt(self.d_model), tf.math.minimum(arg1, arg2))"
      ]
    },
    {
      "cell_type": "code",
      "execution_count": 33,
      "metadata": {
        "colab": {
          "base_uri": "https://localhost:8080/",
          "height": 352
        },
        "id": "67BoG_UeaHHw",
        "outputId": "7502ac00-0e0f-48bb-d117-13510121e861"
      },
      "outputs": [
        {
          "output_type": "execute_result",
          "data": {
            "text/plain": [
              "Text(0.5, 0, 'Train Step')"
            ]
          },
          "metadata": {},
          "execution_count": 33
        },
        {
          "output_type": "display_data",
          "data": {
            "text/plain": [
              "<Figure size 1152x360 with 1 Axes>"
            ],
            "image/png": "[encoded data removed]"
          },
          "metadata": {
            "needs_background": "light"
          }
        }
      ],
      "source": [
        "plt.figure(figsize=(16, 5))\n",
        "sample_learning_rate = CustomSchedule(d_model=128)\n",
        "\n",
        "plt.plot(sample_learning_rate(tf.range(200000, dtype=tf.float32)))\n",
        "plt.ylabel(\"Learning Rate\")\n",
        "plt.xlabel(\"Train Step\")"
      ]
    },
    {
      "cell_type": "markdown",
      "metadata": {
        "id": "cCqve3kwWCxd"
      },
      "source": [
        "### Initialize and compile model\n",
        "\n",
        "Initialize and compile model with our predefined custom learning rate and Adam optimizer under the strategy scope."
      ]
    },
    {
      "cell_type": "code",
      "execution_count": 34,
      "metadata": {
        "colab": {
          "base_uri": "https://localhost:8080/"
        },
        "id": "1QqojIa5WEQq",
        "outputId": "f5a6e482-740b-47c9-8c63-51be8aa7c294"
      },
      "outputs": [
        {
          "output_type": "stream",
          "name": "stdout",
          "text": [
            "Loading glove...\n",
            "GloVe  100  loded!\n",
            "Loading glove...\n",
            "GloVe  100  loded!\n",
            "Created new model\n",
            "Model: \"transformer\"\n",
            "__________________________________________________________________________________________________\n",
            " Layer (type)                   Output Shape         Param #     Connected to                     \n",
            "==================================================================================================\n",
            " inputs (InputLayer)            [(None, None)]       0           []                               \n",
            "                                                                                                  \n",
            " dec_inputs (InputLayer)        [(None, None)]       0           []                               \n",
            "                                                                                                  \n",
            " enc_padding_mask (Lambda)      (None, 1, 1, None)   0           ['inputs[0][0]']                 \n",
            "                                                                                                  \n",
            " encoder (Functional)           (None, None, 100)    3877024     ['inputs[0][0]',                 \n",
            "                                                                  'enc_padding_mask[0][0]']       \n",
            "                                                                                                  \n",
            " look_ahead_mask (Lambda)       (None, 1, None, Non  0           ['dec_inputs[0][0]']             \n",
            "                                e)                                                                \n",
            "                                                                                                  \n",
            " dec_padding_mask (Lambda)      (None, 1, 1, None)   0           ['inputs[0][0]']                 \n",
            "                                                                                                  \n",
            " decoder (Functional)           (None, None, 100)    3958224     ['dec_inputs[0][0]',             \n",
            "                                                                  'encoder[0][0]',                \n",
            "                                                                  'look_ahead_mask[0][0]',        \n",
            "                                                                  'dec_padding_mask[0][0]']       \n",
            "                                                                                                  \n",
            " outputs (Dense)                (None, None, 35894)  3625294     ['decoder[0][0]']                \n",
            "                                                                                                  \n",
            "==================================================================================================\n",
            "Total params: 11,460,542\n",
            "Trainable params: 4,281,742\n",
            "Non-trainable params: 7,178,800\n",
            "__________________________________________________________________________________________________\n"
          ]
        }
      ],
      "source": [
        "from tensorflow import keras\n",
        "# clear backend\n",
        "tf.keras.backend.clear_session()\n",
        "\n",
        "learning_rate = CustomSchedule(D_MODEL)\n",
        "\n",
        "optimizer = tf.keras.optimizers.Adam(\n",
        "    learning_rate, beta_1=0.9, beta_2=0.98, epsilon=1e-9)\n",
        "\n",
        "def accuracy(y_true, y_pred):\n",
        "  # ensure labels have shape (batch_size, max_len_q - 1)\n",
        "  y_true = tf.reshape(y_true, shape=(-1, max_len_q - 1))\n",
        "  return tf.keras.metrics.sparse_categorical_accuracy(y_true, y_pred)\n",
        "\n",
        "with strategy.scope():\n",
        "  model = transformer(\n",
        "      vocab_size=vocab_size,\n",
        "      num_layers=NUM_LAYERS,\n",
        "      units=UNITS,\n",
        "      d_model=D_MODEL,\n",
        "      num_heads=NUM_HEADS,\n",
        "      dropout=DROPOUT)\n",
        "  print('Created new model')\n",
        "\n",
        "model.compile(optimizer=optimizer, loss=loss_function, metrics=[accuracy])\n",
        "model.summary()"
      ]
    },
    {
      "cell_type": "markdown",
      "source": [
        "#### Save empty model"
      ],
      "metadata": {
        "id": "i0YSq41DZIdE"
      }
    },
    {
      "cell_type": "code",
      "source": [
        "model.save('chatbotEmpty.tf', include_optimizer=False)"
      ],
      "metadata": {
        "colab": {
          "base_uri": "https://localhost:8080/"
        },
        "id": "AU2jQ-rdZPRk",
        "outputId": "15438d15-35b1-4f7e-d68b-a86cd79f68b9"
      },
      "execution_count": 36,
      "outputs": [
        {
          "output_type": "stream",
          "name": "stderr",
          "text": [
            "WARNING:absl:Found untraced functions such as dense_layer_call_fn, dense_layer_call_and_return_conditional_losses, dense_1_layer_call_fn, dense_1_layer_call_and_return_conditional_losses, dense_2_layer_call_fn while saving (showing 5 of 48). These functions will not be directly callable after loading.\n"
          ]
        }
      ]
    },
    {
      "cell_type": "markdown",
      "metadata": {
        "id": "vDMd69urLNuc"
      },
      "source": [
        "#### Fit *model*\n",
        "Use TPU for faster trainning"
      ]
    },
    {
      "cell_type": "code",
      "execution_count": 106,
      "metadata": {
        "colab": {
          "base_uri": "https://localhost:8080/"
        },
        "id": "d7iahRzlLNG2",
        "outputId": "15290c4d-bef9-4454-e53f-fe9bd4153776"
      },
      "outputs": [
        {
          "output_type": "stream",
          "name": "stdout",
          "text": [
            "Epoch 1/50\n",
            "284/284 [==============================] - 16s 56ms/step - loss: 1.7780 - accuracy: 0.1474\n",
            "Epoch 2/50\n",
            "284/284 [==============================] - 16s 55ms/step - loss: 1.7769 - accuracy: 0.1477\n",
            "Epoch 3/50\n",
            "284/284 [==============================] - 16s 55ms/step - loss: 1.7767 - accuracy: 0.1475\n",
            "Epoch 4/50\n",
            "284/284 [==============================] - 16s 57ms/step - loss: 1.7768 - accuracy: 0.1476\n",
            "Epoch 5/50\n",
            "284/284 [==============================] - 16s 57ms/step - loss: 1.7766 - accuracy: 0.1474\n",
            "Epoch 6/50\n",
            "284/284 [==============================] - 16s 57ms/step - loss: 1.7758 - accuracy: 0.1475\n",
            "Epoch 7/50\n",
            "284/284 [==============================] - 16s 56ms/step - loss: 1.7760 - accuracy: 0.1476\n",
            "Epoch 8/50\n",
            "284/284 [==============================] - 16s 55ms/step - loss: 1.7765 - accuracy: 0.1477\n",
            "Epoch 9/50\n",
            "284/284 [==============================] - 16s 55ms/step - loss: 1.7758 - accuracy: 0.1478\n",
            "Epoch 10/50\n",
            "284/284 [==============================] - 16s 55ms/step - loss: 1.7756 - accuracy: 0.1474\n",
            "Epoch 11/50\n",
            "284/284 [==============================] - 16s 56ms/step - loss: 1.7757 - accuracy: 0.1476\n",
            "Epoch 12/50\n",
            "284/284 [==============================] - 16s 55ms/step - loss: 1.7754 - accuracy: 0.1477\n",
            "Epoch 13/50\n",
            "284/284 [==============================] - 16s 56ms/step - loss: 1.7755 - accuracy: 0.1476\n",
            "Epoch 14/50\n",
            "284/284 [==============================] - 16s 56ms/step - loss: 1.7751 - accuracy: 0.1477\n",
            "Epoch 15/50\n",
            "284/284 [==============================] - 16s 55ms/step - loss: 1.7748 - accuracy: 0.1476\n",
            "Epoch 16/50\n",
            "284/284 [==============================] - 16s 56ms/step - loss: 1.7755 - accuracy: 0.1475\n",
            "Epoch 17/50\n",
            "284/284 [==============================] - 16s 56ms/step - loss: 1.7746 - accuracy: 0.1477\n",
            "Epoch 18/50\n",
            "284/284 [==============================] - 16s 56ms/step - loss: 1.7748 - accuracy: 0.1475\n",
            "Epoch 19/50\n",
            "284/284 [==============================] - 16s 56ms/step - loss: 1.7741 - accuracy: 0.1478\n",
            "Epoch 20/50\n",
            "284/284 [==============================] - 16s 56ms/step - loss: 1.7740 - accuracy: 0.1478\n",
            "Epoch 21/50\n",
            "284/284 [==============================] - 16s 57ms/step - loss: 1.7741 - accuracy: 0.1479\n",
            "Epoch 22/50\n",
            "284/284 [==============================] - 16s 57ms/step - loss: 1.7737 - accuracy: 0.1477\n",
            "Epoch 23/50\n",
            "284/284 [==============================] - 16s 56ms/step - loss: 1.7740 - accuracy: 0.1479\n",
            "Epoch 24/50\n",
            "284/284 [==============================] - 16s 55ms/step - loss: 1.7729 - accuracy: 0.1480\n",
            "Epoch 25/50\n",
            "284/284 [==============================] - 16s 55ms/step - loss: 1.7736 - accuracy: 0.1478\n",
            "Epoch 26/50\n",
            "284/284 [==============================] - 16s 56ms/step - loss: 1.7735 - accuracy: 0.1478\n",
            "Epoch 27/50\n",
            "284/284 [==============================] - 16s 57ms/step - loss: 1.7731 - accuracy: 0.1478\n",
            "Epoch 28/50\n",
            "284/284 [==============================] - 16s 56ms/step - loss: 1.7725 - accuracy: 0.1480\n",
            "Epoch 29/50\n",
            "284/284 [==============================] - 16s 55ms/step - loss: 1.7734 - accuracy: 0.1479\n",
            "Epoch 30/50\n",
            "284/284 [==============================] - 16s 56ms/step - loss: 1.7725 - accuracy: 0.1481\n",
            "Epoch 31/50\n",
            "284/284 [==============================] - 16s 55ms/step - loss: 1.7726 - accuracy: 0.1481\n",
            "Epoch 32/50\n",
            "284/284 [==============================] - 16s 55ms/step - loss: 1.7727 - accuracy: 0.1478\n",
            "Epoch 33/50\n",
            "284/284 [==============================] - 15s 54ms/step - loss: 1.7721 - accuracy: 0.1480\n",
            "Epoch 34/50\n",
            "284/284 [==============================] - 16s 57ms/step - loss: 1.7726 - accuracy: 0.1478\n",
            "Epoch 35/50\n",
            "284/284 [==============================] - 16s 56ms/step - loss: 1.7721 - accuracy: 0.1481\n",
            "Epoch 36/50\n",
            "284/284 [==============================] - 16s 56ms/step - loss: 1.7720 - accuracy: 0.1479\n",
            "Epoch 37/50\n",
            "284/284 [==============================] - 16s 56ms/step - loss: 1.7711 - accuracy: 0.1482\n",
            "Epoch 38/50\n",
            "284/284 [==============================] - 16s 56ms/step - loss: 1.7716 - accuracy: 0.1480\n",
            "Epoch 39/50\n",
            "284/284 [==============================] - 16s 56ms/step - loss: 1.7710 - accuracy: 0.1480\n",
            "Epoch 40/50\n",
            "284/284 [==============================] - 16s 55ms/step - loss: 1.7709 - accuracy: 0.1480\n",
            "Epoch 41/50\n",
            "284/284 [==============================] - 16s 56ms/step - loss: 1.7713 - accuracy: 0.1481\n",
            "Epoch 42/50\n",
            "284/284 [==============================] - 16s 55ms/step - loss: 1.7715 - accuracy: 0.1480\n",
            "Epoch 43/50\n",
            "284/284 [==============================] - 16s 56ms/step - loss: 1.7704 - accuracy: 0.1481\n",
            "Epoch 44/50\n",
            "284/284 [==============================] - 16s 55ms/step - loss: 1.7701 - accuracy: 0.1481\n",
            "Epoch 45/50\n",
            "284/284 [==============================] - 17s 58ms/step - loss: 1.7703 - accuracy: 0.1481\n",
            "Epoch 46/50\n",
            "284/284 [==============================] - 16s 58ms/step - loss: 1.7707 - accuracy: 0.1480\n",
            "Epoch 47/50\n",
            "284/284 [==============================] - 16s 58ms/step - loss: 1.7703 - accuracy: 0.1484\n",
            "Epoch 48/50\n",
            "284/284 [==============================] - 16s 57ms/step - loss: 1.7701 - accuracy: 0.1483\n",
            "Epoch 49/50\n",
            "284/284 [==============================] - 16s 56ms/step - loss: 1.7705 - accuracy: 0.1482\n",
            "Epoch 50/50\n",
            "284/284 [==============================] - 16s 55ms/step - loss: 1.7693 - accuracy: 0.1482\n"
          ]
        },
        {
          "output_type": "execute_result",
          "data": {
            "text/plain": [
              "<keras.callbacks.History at 0x7ffa71bf52d0>"
            ]
          },
          "metadata": {},
          "execution_count": 106
        }
      ],
      "source": [
        "model.fit(dataset, epochs=50)"
      ]
    },
    {
      "cell_type": "code",
      "source": [
        "model.save_weights('chatbotWeights.h5')"
      ],
      "metadata": {
        "id": "UYrGktRwxPVl"
      },
      "execution_count": 110,
      "outputs": []
    },
    {
      "cell_type": "markdown",
      "source": [
        "#### Load Trained model"
      ],
      "metadata": {
        "id": "B35VAKpTa4pF"
      }
    },
    {
      "cell_type": "code",
      "source": [
        "model = keras.models.load_model('chatbotEmpty.tf')\n",
        "model.compile(optimizer=optimizer, loss=loss_function, metrics=[accuracy])\n",
        "#trained 300epochs\n",
        "model.load_weights('chatbotWeights.h5')"
      ],
      "metadata": {
        "colab": {
          "base_uri": "https://localhost:8080/"
        },
        "id": "wGl1NcJza2nT",
        "outputId": "784424f6-e44c-41d2-c6bc-607b5c12e5d8"
      },
      "execution_count": 38,
      "outputs": [
        {
          "output_type": "stream",
          "name": "stderr",
          "text": [
            "WARNING:tensorflow:No training configuration found in save file, so the model was *not* compiled. Compile it manually.\n"
          ]
        }
      ]
    },
    {
      "cell_type": "markdown",
      "metadata": {
        "id": "p1DUXog6WqV-"
      },
      "source": [
        "## Evaluate and predict\n",
        "\n",
        "The following steps are used for evaluation:\n",
        "\n",
        "* Apply the same preprocessing method we used to create our dataset for the input sentence.\n",
        "* Tokenize the input sentence and add `START_TOKEN` and `END_TOKEN`. \n",
        "* Calculate the padding masks and the look ahead masks.\n",
        "* The decoder then outputs the predictions by looking at the encoder output and its own output.\n",
        "* Select the last word and calculate the argmax of that.\n",
        "* Concatentate the predicted word to the decoder input as pass it to the decoder.\n",
        "* In this approach, the decoder predicts the next word based on the previous words it predicted.\n"
      ]
    },
    {
      "cell_type": "code",
      "execution_count": 122,
      "metadata": {
        "id": "repNqwdooW6q"
      },
      "outputs": [],
      "source": [
        "def evaluate(sentence):\n",
        "  sentence = clean_sentence(sentence)\n",
        "\n",
        "  sentence = tf.expand_dims(start_token + tokenizer.texts_to_sequences([sentence])[0] + end_token, axis=0)\n",
        "  output = tf.expand_dims(start_token, 0)\n",
        "\n",
        "  for i in range(max_len):\n",
        "    predictions = model(inputs=[sentence, output], training=False)\n",
        "\n",
        "    # select the last word from the seq_len dimension\n",
        "    predictions = predictions[:, -1:, :]\n",
        "    maxid = tf.argmax(predictions, axis=-1) \n",
        "\n",
        "    if maxid == end_token: \n",
        "      selected = maxid\n",
        "    else:  #beam search with beamwidth = 3\n",
        "      candidates = tf.argsort(predictions, axis=-1, direction='ASCENDING')[:,:,-3:] #select three maximum candidate words\n",
        "      selected = random.choice(np.squeeze(candidates)) #randomly choice one word\n",
        "      selected = np.expand_dims(np.expand_dims(selected, axis=0), axis=0) #expand dims [[value]]\n",
        "\n",
        "    predicted_id = tf.cast(selected, tf.int32)\n",
        "\n",
        "    # return the result if the predicted_id is equal to the end token\n",
        "    if tf.equal(predicted_id, end_token[0]):\n",
        "      break\n",
        "\n",
        "    # concatenated the predicted_id to the output which is given to the decoder\n",
        "    # as its input.\n",
        "    output = tf.concat([output, predicted_id], axis=-1)\n",
        "\n",
        "  return tf.squeeze(output, axis=0)\n",
        "\n",
        "\n",
        "def predict(sentence):\n",
        "  prediction = evaluate(sentence)\n",
        "  tokens = [p for p in prediction.numpy() if p < vocab_size and p != start_token and p != end_token]\n",
        "  predicted_sentence = tokenizer.sequences_to_texts([tokens])[0]\n",
        "  return predicted_sentence"
      ]
    },
    {
      "cell_type": "markdown",
      "metadata": {
        "id": "9J3Jdtk2P-RT"
      },
      "source": [
        "#### Testing trained model"
      ]
    },
    {
      "cell_type": "code",
      "execution_count": 126,
      "metadata": {
        "colab": {
          "base_uri": "https://localhost:8080/"
        },
        "id": "ivVgU6ydRV8R",
        "outputId": "9b0e01b5-bb3a-4798-f0d4-cfc926314d19"
      },
      "outputs": [
        {
          "output_type": "stream",
          "name": "stdout",
          "text": [
            "i am doing okay\n"
          ]
        }
      ],
      "source": [
        "output = predict(\"how are you?\")\n",
        "print(output)"
      ]
    },
    {
      "cell_type": "code",
      "execution_count": 127,
      "metadata": {
        "colab": {
          "base_uri": "https://localhost:8080/"
        },
        "id": "6IeMSGEgRTvC",
        "outputId": "dd3b0870-07f0-4db1-d074-4a5980672d7d"
      },
      "outputs": [
        {
          "output_type": "stream",
          "name": "stdout",
          "text": [
            "just around the corner\n"
          ]
        }
      ],
      "source": [
        "output = predict('Where have you been?')\n",
        "print(output)"
      ]
    }
  ],
  "metadata": {
    "colab": {
      "collapsed_sections": [],
      "name": "TransformerChatbot.ipynb",
      "provenance": []
    },
    "gpuClass": "standard",
    "kernelspec": {
      "display_name": "Python 3",
      "language": "python",
      "name": "python3"
    },
    "language_info": {
      "codemirror_mode": {
        "name": "ipython",
        "version": 3
      },
      "file_extension": ".py",
      "mimetype": "text/x-python",
      "name": "python",
      "nbconvert_exporter": "python",
      "pygments_lexer": "ipython3",
      "version": "3.7.7"
    }
  },
  "nbformat": 4,
  "nbformat_minor": 0
}